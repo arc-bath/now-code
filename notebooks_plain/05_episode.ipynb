{
 "cells": [
  {
   "cell_type": "markdown",
   "metadata": {
    "slideshow": {
     "slide_type": "slide"
    }
   },
   "source": [
    "# Processing Data from the Web"
   ]
  },
  {
   "cell_type": "markdown",
   "metadata": {
    "slideshow": {
     "slide_type": "slide"
    }
   },
   "source": [
    "## Overview\n",
    "- **Teaching:** 0 min\n",
    "- **Exercises:** 90 min\n",
    "\n",
    "**Questions**\n",
    "- How can I access data from the web?\n",
    "- How can I mine these files for data?\n",
    "\n",
    "**Objectives**\n",
    "- Be able to access data from websites\n",
    "- Process these files using pandas\n",
    "- Analyse and plot the data"
   ]
  },
  {
   "cell_type": "markdown",
   "metadata": {
    "slideshow": {
     "slide_type": "slide"
    }
   },
   "source": [
    "## Getting Started\n",
    "\n",
    "Open Jupyter Notebooks and change to this directory.  Then open a new note notebook."
   ]
  },
  {
   "cell_type": "markdown",
   "metadata": {
    "slideshow": {
     "slide_type": "slide"
    }
   },
   "source": [
    "In this exercise you will download data from the web into a panda dataframe and then write some analysis and plotting code.  The dataset that we will analyse is taken from [co2.earth](https://www.co2.earth/historical-co2-datasets) specifically the [monthly data](ftp://data.iac.ethz.ch/CMIP6/input4MIPs/UoM/GHGConc/CMIP/mon/atmos/UoM-CMIP-1-1-0/GHGConc/gr3-GMNHSH/v20160701/mole_fraction_of_carbon_dioxide_in_air_input4MIPs_GHGConcentrations_CMIP_UoM-CMIP-1-1-0_gr3-GMNHSH_000001-201412.csv).  Before processing the data, download and inspect it so that you know what to expect it to look like when you open it in a dataframe."
   ]
  },
  {
   "cell_type": "markdown",
   "metadata": {
    "slideshow": {
     "slide_type": "slide"
    }
   },
   "source": [
    "## Pen: 1: Open the data\n",
    "\n",
    "In a single cell write the code to open the dataset and display it.  The full link for the dataset is:\n",
    "\n",
    "```\n",
    "ftp://data.iac.ethz.ch/CMIP6/input4MIPs/UoM/GHGConc/CMIP/mon/atmos/UoM-CMIP-1-1-0/GHGConc/gr3-GMNHSH/v20160701/mole_fraction_of_carbon_dioxide_in_air_input4MIPs_GHGConcentrations_CMIP_UoM-CMIP-1-1-0_gr3-GMNHSH_000001-201412.csv\n",
    "```\n",
    "\n",
    "Hint: You should be able to open csv files straight from a web link using the `pandas` function `read_csv()`.  \n",
    "\n",
    "Pandas does a good job of interpreting the data, e.g. as `float`, `int` however you can tell it to import certain columns as specific data types.  Inspect the data and think about which columns might need to be imported in this way."
   ]
  },
  {
   "cell_type": "markdown",
   "metadata": {
    "slideshow": {
     "slide_type": "slide"
    }
   },
   "source": [
    "## Pen: 2: Plot the data\n",
    "\n",
    "Now, we wish to prepare a plot comparing the dataset for the 5 years from 2000-5, but to start with plot the datasets `data_mean_global`, with a line like `co2_data.data_mean_global.plot()`.  \n",
    "\n",
    "By setting the labels, legend, limits and ticks, plot all three data sets to prepare a plot that looks like:\n",
    "\n",
    "![CO2 data plot](../images/co2_2000-5.png)\n",
    "\n",
    "and once you have it looking correct, save it to a file.\n",
    "\n",
    "We cannot easily make use of the column `datetime` due to the way in which the Python `datetime` object works.  So think about how you might use the ID and knowledge of the data to generate the `year`, or alternatively create a new column of data `date` which expresses the year and month in a format that you can use."
   ]
  },
  {
   "cell_type": "markdown",
   "metadata": {
    "slideshow": {
     "slide_type": "slide"
    }
   },
   "source": [
    "## Pen: 3: Aggregate and Collect\n",
    "\n",
    "Now we wish to calculate the mean, maximum and minimum annual CO2 levels globally and in each hemisphere.  Construct a single data frame which has 9 'columns', three aggregate values for each of the three datasets, with the year as the index and appropriate column labels. \n",
    "\n",
    "You will need to make use of the `aggregate` function that we saw in 'Working with Data and Plotting', you may also find the functions `drop`, `columns` and `concat` useful, they been be explored in more detail and the [Pandas documentation](http://pandas.pydata.org/pandas-docs/stable/).\n"
   ]
  },
  {
   "cell_type": "markdown",
   "metadata": {
    "slideshow": {
     "slide_type": "slide"
    }
   },
   "source": [
    "## Pen: Sandpit\n",
    "\n",
    "Using the data that you produced in the previous exercise, can you prepare a plot of the mean CO2 levels and adds the min and max as 'error' bars.  These will make use of the `yerr` keyword, as always you are encouraged to look at the [documentation](https://pandas.pydata.org/pandas-docs/stable/visualization.html) and examples you might find.  Your final plot should look somthing like:\n",
    "\n",
    "![Annual CO2 plot](../images/annual_all_bars.png)"
   ]
  },
  {
   "cell_type": "markdown",
   "metadata": {
    "slideshow": {
     "slide_type": "slide"
    }
   },
   "source": [
    "## Key Points\n",
    "- Pandas `read_csv` function can be used to read data straight from the web.\n",
    "- Pandas native `datatime` format is unable to deal with long time ranges.\n",
    "- Inspect your data to understand how you need to treat it.\n",
    "- Make use of the extensive documentation for python libraries!\n",
    "- Decorate your plots with label, ticks, legend and error bars."
   ]
  }
 ],
 "metadata": {
  "celltoolbar": "Slideshow",
  "kernelspec": {
   "display_name": "Python 3",
   "language": "python",
   "name": "python3"
  },
  "language_info": {
   "codemirror_mode": {
    "name": "ipython",
    "version": 3
   },
   "file_extension": ".py",
   "mimetype": "text/x-python",
   "name": "python",
   "nbconvert_exporter": "python",
   "pygments_lexer": "ipython3",
   "version": "3.6.6"
  }
 },
 "nbformat": 4,
 "nbformat_minor": 2
}
