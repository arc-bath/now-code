{
 "cells": [
  {
   "cell_type": "markdown",
   "metadata": {
    "slideshow": {
     "slide_type": "slide"
    }
   },
   "source": [
    "# Processing Text"
   ]
  },
  {
   "cell_type": "markdown",
   "metadata": {
    "slideshow": {
     "slide_type": "slide"
    }
   },
   "source": [
    "## Overview\n",
    "- **Teaching:** 0 min\n",
    "- **Exercises:** 90 min\n",
    "\n",
    "**Questions**\n",
    "- How can I access files from the web?\n",
    "- How can I mine these files for data?\n",
    "\n",
    "**Objectives**\n",
    "- Be able to access pages/files on websites\n",
    "- Process these file to split them for analysis\n",
    "- Perform analyses on the data contained"
   ]
  },
  {
   "cell_type": "markdown",
   "metadata": {
    "slideshow": {
     "slide_type": "slide"
    }
   },
   "source": [
    "## Getting Started\n",
    "\n",
    "These exercises use the git repository [arc-bath/text_proc](https://github.bath.ac.uk/arc/text_proc).  You should download or clone this repository and move to the `src` directory."
   ]
  },
  {
   "cell_type": "markdown",
   "metadata": {
    "slideshow": {
     "slide_type": "slide"
    }
   },
   "source": [
    "In this exercise you will learn to open files from the web and set up analyses of the text they contain.  First of all let's introduce the library we will use in this exercise.  Open an `ipython` session and enter the following code:\n",
    "```python\n",
    "import urllib.request\n",
    "link = \"http://www.bath.ac.uk/homepage\"\n",
    "file = urllib.request.urlopen(link)\n",
    "page = file.read().decode()\n",
    "print(page)\n",
    "```\n",
    "\n",
    "What do you think the following has done?  Unless you are familiar with `html` the output will seem quite odd.  However if you open the webpage http://www.bath.ac.uk/homepage and 'view page source' you should see that these are one and the same.\n",
    "\n",
    "We will not learning about `html` or how to process files in this exercise but thought this useful to illustrate that `urllib` can be used to access some webpages as well as static files."
   ]
  },
  {
   "cell_type": "markdown",
   "metadata": {
    "slideshow": {
     "slide_type": "slide"
    }
   },
   "source": [
    "## Exercise: Write an `open_page` function\n",
    "\n",
    "Create a new file `web_text.py` and write a function `open_page` that opens a specified web address and returns the result.  Once you have done this experiment with the function using different pages and see what happens.  Also check how the page/file is returned and think about whether this is the most useful format."
   ]
  },
  {
   "cell_type": "markdown",
   "metadata": {
    "slideshow": {
     "slide_type": "slide"
    }
   },
   "source": [
    "<div class=\"w3-bar w3-padding\" style=\"background-color:#3b93a6\">\n",
    "<div class=\"w3-bar-item\"><h2> ARC Training </h2></div>\n",
    "<div class=\"w3-bar-item w3-right\"><img class=\"w3-image w3-right\" style=\"width:40%;max-width:400px\" src=\"../images/uob-logo-white-transparent.png\"></div>\n",
    "</div>"
   ]
  },
  {
   "cell_type": "markdown",
   "metadata": {
    "slideshow": {
     "slide_type": "slide"
    }
   },
   "source": [
    "You can customise:\n",
    "- The background color of the highlighted cell, here we use University of Bath Research blue-grey\n",
    "- The Title or branding of the course, here we brand with ARC, this could equally be the title of the course/lesson.\n",
    "- And the logo.\n",
    "\n",
    "Or you can go completely freestyle and change it completely."
   ]
  },
  {
   "cell_type": "markdown",
   "metadata": {
    "slideshow": {
     "slide_type": "slide"
    }
   },
   "source": [
    "The bottom banner is also a single cell:\n",
    "```html\n",
    "<div class=\"w3-bar\" style=\"background-color:#3b93a6\">\n",
    "<a href=\"{previous}\" class=\"w3-bar-item w3-button\"><h2><i class=\"fa fa-angle-double-left\"></i> Previous</h2></a>\n",
    "<a href=\"{index}\" class=\"w3-bar-item w3-button w3-center\" style=\"width:60%\"><h2>Schedule</h2></a>\n",
    "<a href=\"{next}\" class=\"w3-bar-item w3-button w3-right\"><h2>Next <i class=\"fa fa-angle-double-right\"></i></h2></a>\n",
    "</div>\n",
    "```\n",
    "which appears as:"
   ]
  },
  {
   "cell_type": "markdown",
   "metadata": {
    "slideshow": {
     "slide_type": "slide"
    }
   },
   "source": [
    "<div class=\"w3-bar\" style=\"background-color:#3b93a6\">\n",
    "<a href=\"{previous}\" class=\"w3-bar-item w3-button\"><h2><i class=\"fa fa-angle-double-left\"></i> Previous</h2></a>\n",
    "<a href=\"{index}\" class=\"w3-bar-item w3-button w3-center\" style=\"width:60%\"><h2>Schedule</h2></a>\n",
    "<a href=\"{next}\" class=\"w3-bar-item w3-button w3-right\"><h2>Next <i class=\"fa fa-angle-double-right\"></i></h2></a>\n",
    "</div>"
   ]
  },
  {
   "cell_type": "markdown",
   "metadata": {
    "slideshow": {
     "slide_type": "slide"
    }
   },
   "source": [
    "Here the {previous}, {index} (schedule) and {next} links are assigned when the notebooks are rendered.  You may want to change this but the build system currently expects to be able to assign these links during the build so significant changes may prevent a correct build.\n",
    "**N.B. that in both these cases the cell appear in the *plain* notebook as they do in *rendered* form.  This is markdown at work, not the build system.**  The build system makes use of this feature of markdown when it renders the plain notebooks and generates the correct links, which do not yet work above."
   ]
  },
  {
   "cell_type": "markdown",
   "metadata": {
    "slideshow": {
     "slide_type": "slide"
    }
   },
   "source": [
    "## Readme\n",
    "The README.md forms an essential part of any well maintained repository, and we feel should be included in the html rendering.  Also since `00_schedule.*` is not `index` when the `html` is built, you can't just link to the root directory of the gh-pages or hosting directory because there is no `index.html` for the browser to hit.  So we render the `README.md` to `index.html` in the `html` build directory and add a link to the first page, `00_scehdule.html`, proper of the lesson."
   ]
  },
  {
   "cell_type": "markdown",
   "metadata": {
    "slideshow": {
     "slide_type": "slide"
    }
   },
   "source": [
    "## Key Points\n",
    "- top and bottom are used to decorate the schedule and episodes to provide a consistent appearance.\n",
    "- Your README.md describing the project will be used as an index for the html so as always keep it up to date and informative."
   ]
  }
 ],
 "metadata": {
  "celltoolbar": "Slideshow",
  "kernelspec": {
   "display_name": "Python 3",
   "language": "python",
   "name": "python3"
  },
  "language_info": {
   "codemirror_mode": {
    "name": "ipython",
    "version": 3
   },
   "file_extension": ".py",
   "mimetype": "text/x-python",
   "name": "python",
   "nbconvert_exporter": "python",
   "pygments_lexer": "ipython3",
   "version": "3.6.6"
  }
 },
 "nbformat": 4,
 "nbformat_minor": 2
}
