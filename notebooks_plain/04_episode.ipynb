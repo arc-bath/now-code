{
 "cells": [
  {
   "cell_type": "markdown",
   "metadata": {
    "slideshow": {
     "slide_type": "slide"
    }
   },
   "source": [
    "# Processing Text"
   ]
  },
  {
   "cell_type": "markdown",
   "metadata": {
    "slideshow": {
     "slide_type": "slide"
    }
   },
   "source": [
    "## Overview\n",
    "- **Teaching:** 0 min\n",
    "- **Exercises:** 90 min\n",
    "\n",
    "**Questions**\n",
    "- How can I access files from the web?\n",
    "- How can I mine these files for data?\n",
    "\n",
    "**Objectives**\n",
    "- Be able to access pages/files on websites\n",
    "- Process these file to split them for analysis\n",
    "- Perform analyses on the data contained"
   ]
  },
  {
   "cell_type": "markdown",
   "metadata": {
    "slideshow": {
     "slide_type": "slide"
    }
   },
   "source": [
    "## Getting Started\n",
    "\n",
    "This exercise requires you to clone the repository from: [github.com/arc-bath/text_proc](https://github.com/arc-bath/text_proc).  Make sure that the repository is not cloned into a directory or sub-directory of an existing git repository.\n",
    "\n",
    "```bash\n",
    "% git clone https://github.com/arc-bath/text_proc.git\n",
    "```\n",
    "\n",
    "Once you have the repository change into the directory and run the tests in `test_rainfall.py`\n",
    "\n",
    "```bash\n",
    "% cd text_proc/src\n",
    "% pytest test_ts_parser.py\n",
    "```\n",
    "\n",
    "You should see the following output from pytest:\n",
    "```brainfuck\n",
    "================================================ test session starts ================================================\n",
    "platform linux -- Python 3.6.3, pytest-3.2.1, py-1.4.34, pluggy-0.4.0\n",
    "rootdir: /home/rjg20/training/arc-training/now-code-repos/text_proc/src, inifile:\n",
    "collected 1 item\n",
    "\n",
    "test_open_page.py F\n",
    "\n",
    "===================================================== FAILURES ======================================================\n",
    "____________________________________________________ test_rjg20 _____________________________________________________\n",
    "\n",
    "    def test_rjg20():\n",
    "        link = \"https://people.bath.ac.uk/rjg20/index.html\"\n",
    "        filename = \"../data/rjg20-index.html\"\n",
    "\n",
    "        with open(filename) as file:\n",
    "            expect = file.read().splitlines()\n",
    "\n",
    ">       link_str = wt.open_page(link)\n",
    "E       AttributeError: module 'web_text' has no attribute 'open_page'\n",
    "\n",
    "test_open_page.py:10: AttributeError\n",
    "============================================= 1 failed in 0.02 seconds ==============================================\n",
    "```\n",
    "\n",
    "Note there is only one test in this file."
   ]
  },
  {
   "cell_type": "markdown",
   "metadata": {
    "slideshow": {
     "slide_type": "slide"
    }
   },
   "source": [
    "In this exercise you will learn to open files from the web and set up analyses of the text they contain.  First of all let's introduce the library we will use in this exercise.  Open an `ipython` session and enter the following code:\n",
    "```python\n",
    "import urllib.request\n",
    "link = \"http://www.bath.ac.uk/homepage\"\n",
    "file = urllib.request.urlopen(link)\n",
    "page = file.read().decode()\n",
    "print(page)\n",
    "```\n",
    "\n",
    "What do you think the following has done?  Unless you are familiar with `html` the output will seem quite odd.  However if you open the webpage http://www.bath.ac.uk/homepage and 'view page source' you should see that these are one and the same.\n",
    "\n",
    "We will not learning about `html` or how to process files in this exercise but thought this useful to illustrate that `urllib` can be used to access some webpages as well as static files."
   ]
  },
  {
   "cell_type": "markdown",
   "metadata": {
    "slideshow": {
     "slide_type": "slide"
    }
   },
   "source": [
    "## Pen: 1: Write an `open_page` function\n",
    "\n",
    "Create a new file `web_text.py` and write a function `open_page` that opens a specified web address and returns the result as a string.  Once you have done this experiment with the function using different pages and see what happens.  Also check how the page/file is returned and think about whether this is the most useful format."
   ]
  },
  {
   "cell_type": "markdown",
   "metadata": {
    "slideshow": {
     "slide_type": "slide"
    }
   },
   "source": [
    "## Pen: 2: Write function to count occurences of words\n",
    "\n",
    "Now we will write functions to count the number of occurences of specific words in a given string.  First however add a new function to `web_text.py` a function `count_words` that when passed a stringreturns to total number of 'words' it contains.  In this context by `word` we mean a set of characters separated from another set by `space` or `newlines`.\n",
    "\n",
    "Once your function is working correctly you should pass the first `3` tests in `test_count.py`, remember you can run `pytest --tb=short <test_file>.py` to reduce the output.\n",
    "\n",
    "Next we want to do something more interesting, count the number of occurrences of a particular word, using a function `count_occs`.  This will take two parameters, a `string`, the text you want to search, and a `list of strings`, containing the different words you want to search for.  The function should return the number of occurrences as a list, in the same order as the list provided by the user.\n",
    "\n",
    "The tests use text in the link \"http://www.gutenberg.org/cache/epub/2264/pg2264.txt\", understanding what the tests are doing, by working through them, and knowing what the file is may help to illustrate what the aims of the code developed in the exercise might be.  Explore using your library to explore the contents of the file as well as completing the exercises.\n",
    "\n",
    "Once you have `count_occs` implemented correctly the remainder of the tests in `test_count.py` should pass."
   ]
  },
  {
   "cell_type": "markdown",
   "metadata": {
    "slideshow": {
     "slide_type": "slide"
    }
   },
   "source": [
    "## Pen: 3: Split and strip string\n",
    "\n",
    "Write a function `split_strip_text()` which takes two strings, the text you wish to process and the key word that will be used to split the string.  By inspecting the test for this exercise `test_split.py`, make sure you understand what the tests are using your functions to do.\n",
    "\n",
    "Once your function is working it should pass the first test.  Now use your functions to open the text in the [above link](http://www.gutenberg.org/cache/epub/2264/pg2264.txt) in an interactive session and use your function to split the on the key word used in the test 'Actus'.  Inspect the result of your function to understand why we might want to strip out the first, or other substrings that your function returns.\n",
    "\n",
    "Modify your function so that it now takes two variables `start` and `stop` and give both `0` by default.  If neither is passed your function should work as before returning all the substrings as before.  If either (or both) is provided by the user these should be used as the `start` and `stop` indices of the list of substrings returned by your function.  As with normal `Python` behaviour when slicing lists, your user should understand that if provided the `start` index will be the first returned, and `stop` the first not returned and this should be reflected in your documentation.\n",
    "\n",
    "Once you have correctly implemented the strip, or slice functionality your function should pass the remainder of the tests in `test_split.py`.\n",
    "\n",
    "Bearing in mind the properties of lists and slicing them, what should you also consider putting into your function?"
   ]
  },
  {
   "cell_type": "markdown",
   "metadata": {
    "slideshow": {
     "slide_type": "slide"
    }
   },
   "source": [
    "## Pen: Sandpit\n",
    "\n",
    "Now that you have passed developed your functions, see if you can combine them to obtain lists of how many lines the key characters, Macbeth,Macduff, Lady Macbeth have in each Actus of the play."
   ]
  },
  {
   "cell_type": "markdown",
   "metadata": {
    "slideshow": {
     "slide_type": "slide"
    }
   },
   "source": [
    "## Key Points\n",
    "- urrlib.request can be used to access pages from the internet\n",
    "- Although many libraries exist for processing text it is vital that you understand what they are doing\n",
    "- You have readily produced a library that can perform analysis of text files."
   ]
  }
 ],
 "metadata": {
  "celltoolbar": "Slideshow",
  "kernelspec": {
   "display_name": "Python 3",
   "language": "python",
   "name": "python3"
  },
  "language_info": {
   "codemirror_mode": {
    "name": "ipython",
    "version": 3
   },
   "file_extension": ".py",
   "mimetype": "text/x-python",
   "name": "python",
   "nbconvert_exporter": "python",
   "pygments_lexer": "ipython3",
   "version": "3.6.6"
  }
 },
 "nbformat": 4,
 "nbformat_minor": 2
}
