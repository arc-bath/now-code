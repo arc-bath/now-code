{
 "cells": [
  {
   "cell_type": "markdown",
   "metadata": {
    "slideshow": {
     "slide_type": "slide"
    }
   },
   "source": [
    "# Now Code"
   ]
  },
  {
   "cell_type": "markdown",
   "metadata": {
    "slideshow": {
     "slide_type": "subslide"
    }
   },
   "source": [
    "This session will build upon what you have learnt previously, as you attempt a series of exercises.  These challenges will provide an opportunity to develop your understanding of how to approach coding, while putting the tools and methods covered in previous workshops into practice.  By the end of the workshop you should feel confident employing good practices to develop the software you need for your research."
   ]
  },
  {
   "cell_type": "markdown",
   "metadata": {
    "slideshow": {
     "slide_type": "slide"
    }
   },
   "source": [
    "## Prerequisites\n",
    "\n",
    "In order to benefit the most from this lesson, you should be familar with:\n",
    "* The linux command line\n",
    "* Using Git\n",
    "* Programming and testing in Python"
   ]
  },
  {
   "cell_type": "markdown",
   "metadata": {
    "slideshow": {
     "slide_type": "slide"
    }
   },
   "source": [
    "## Schedule\n",
    "Approximate timings for the Exercises:\n",
    "\n",
    "| Time | Episode | Description |\n",
    "|---|---|---|\n",
    "| 0:00 | [Introduction](./01_episode.ipynb) | What is Now Code? |\n",
    "| 1:30 | [Conditional Parsing](./02_episode.ipynb) | Read in and Process a Datafile |\n",
    "| 1:30 | [The Rainfall Problem](./03_episode.ipynb) | Conditional Averages |\n",
    "| 1:30 | [Processing Text](./04_episode.ipynb) | Dowloading and proceesing files from the web |"
   ]
  }
 ],
 "metadata": {
  "celltoolbar": "Slideshow",
  "kernelspec": {
   "display_name": "Python 3",
   "language": "python",
   "name": "python3"
  },
  "language_info": {
   "codemirror_mode": {
    "name": "ipython",
    "version": 3
   },
   "file_extension": ".py",
   "mimetype": "text/x-python",
   "name": "python",
   "nbconvert_exporter": "python",
   "pygments_lexer": "ipython3",
   "version": "3.7.1"
  }
 },
 "nbformat": 4,
 "nbformat_minor": 2
}
