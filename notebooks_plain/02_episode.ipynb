{
 "cells": [
  {
   "cell_type": "markdown",
   "metadata": {
    "slideshow": {
     "slide_type": "slide"
    }
   },
   "source": [
    "# Conditional Parsing"
   ]
  },
  {
   "cell_type": "markdown",
   "metadata": {
    "slideshow": {
     "slide_type": "slide"
    }
   },
   "source": [
    "## Overview\n",
    "- **Teaching:** 0 min\n",
    "- **Exercises:** 90 min\n",
    "\n",
    "**Questions**\n",
    "- How do I parse a data file conditionally?\n",
    "\n",
    "**Objectives**\n",
    "- Increasingly codes will use standard data files to help simplify the proceess of interacting with them\n",
    "- However this will not always be the case and processing data (files) can take an unreasonable amount of time\n",
    "- Learning to write reusable, reliable parsers will greatly reduce the pain\n",
    "- Python also helps to greatly ease the pain of parsing"
   ]
  },
  {
   "cell_type": "markdown",
   "metadata": {
    "slideshow": {
     "slide_type": "slide"
    }
   },
   "source": [
    "## Getting Started\n",
    "\n",
    "This exercise requires you to clone the repository from: [github.com/arc-bath/parsing](https://github.com/arc-bath/parsing).  Make sure that the repository is not cloned into a directory or sub-directory of an existing git repository.\n",
    "\n",
    "```bash\n",
    "% git clone https://github.com/arc-bath/parsing.git\n",
    "```\n",
    "\n",
    "Once you have the repository change into the directory and run the tests in `test_rainfall.py`\n",
    "\n",
    "```bash\n",
    "% cd parsing/src\n",
    "% pytest test_ts_parser.py\n",
    "```\n",
    "\n",
    "You should see a lot of output from pytest since many of the tests failed.  The final line should contain a summary:\n",
    "\n",
    "```brainfuck\n",
    "======================================== 8 failed, 1 passed in 0.37 seconds =========================================\n",
    "```\n",
    "\n",
    "The aim of this exercise is to modify your function so that it passes all these tests.  Let's begin by reducing the output produced by `pytest` so we can see more clearly what is happening:\n",
    "\n",
    "```bash\n",
    "% pytest --tb=short test_ts_parser.py\n",
    "```\n",
    "\n",
    "You should now see output that looks like:"
   ]
  },
  {
   "cell_type": "markdown",
   "metadata": {},
   "source": [
    "```brainfuck\n",
    "================================================ test session starts ================================================\n",
    "platform linux -- Python 3.6.3, pytest-3.2.1, py-1.4.34, pluggy-0.4.0\n",
    "rootdir: /home/rjg20/training/arc-training/now-code-repos/parsing/src, inifile:\n",
    "collected 9 items\n",
    "\n",
    "test_ts_parser.py .FFFFFFFF\n",
    "\n",
    "===================================================== FAILURES ======================================================\n",
    "_______________________________________________ test_read_ts_coords2 ________________________________________________\n",
    "test_ts_parser.py:32: in test_read_ts_coords2\n",
    "    assert len(item) == 38\n",
    "E   assert 0 == 38\n",
    "E    +  where 0 = len([])\n",
    "________________________________________________ test_read_structs_a ________________________________________________\n",
    "test_ts_parser.py:64: in test_read_structs_a\n",
    "    assert len(item) == 1\n",
    "E   assert 0 == 1\n",
    "E    +  where 0 = len([])\n",
    "________________________________________________ test_read_structs_b ________________________________________________\n",
    "test_ts_parser.py:81: in test_read_structs_b\n",
    "    assert len(item) == 2\n",
    "E   assert 0 == 2\n",
    "E    +  where 0 = len([])\n",
    "________________________________________________ test_read_structs_c ________________________________________________\n",
    "test_ts_parser.py:99: in test_read_structs_c\n",
    "    assert len(item) == 3\n",
    "E   assert 0 == 3\n",
    "E    +  where 0 = len([])\n",
    "________________________________________________ test_read_structs_d ________________________________________________\n",
    "test_ts_parser.py:119: in test_read_structs_d\n",
    "    assert len(item) == 3\n",
    "E   assert 0 == 3\n",
    "E    +  where 0 = len([])\n",
    "________________________________________________ test_read_structs_e ________________________________________________\n",
    "test_ts_parser.py:142: in test_read_structs_e\n",
    "    assert len(item) == 3\n",
    "E   assert 0 == 3\n",
    "E    +  where 0 = len([])\n",
    "________________________________________________ test_read_structs_f ________________________________________________\n",
    "test_ts_parser.py:171: in test_read_structs_f\n",
    "    raise Exception('Expected empty line error not raised')\n",
    "E   Exception: Expected empty line error not raised\n",
    "________________________________________________ test_read_structs_g ________________________________________________\n",
    "test_ts_parser.py:188: in test_read_structs_g\n",
    "    raise Exception('Expected file termination error not raised')\n",
    "E   Exception: Expected file termination error not raised\n",
    "======================================== 8 failed, 1 passed in 0.37 seconds =========================================\n",
    "```"
   ]
  },
  {
   "cell_type": "markdown",
   "metadata": {
    "slideshow": {
     "slide_type": "slide"
    }
   },
   "source": [
    "## The Problem\n",
    "\n",
    "Writing code to process data files can take an inordinate amount of time.  We will examine how to conditionally process a file of structures.  While this may seem like a problem of simulation, it examines a much more general problem when dealing with data, how to read and write it.  Even with standard formats easing the process of reading and writing data, in processing that data, and changing its format to meet the needs of our analysis will often be necessary.\n",
    "\n",
    "You will read in structures (data set) comprising of atom labels and elements in the format:\n",
    "\n",
    "`<Element label>  <x_coordinate>  <y_coordinate>  <z_coordinate>`\n",
    "\n",
    "e.g.\n",
    "\n",
    "`A 0.0 0.0 0.0`\n",
    "\n",
    "where the data are separated by `spaces`. Each structure consists of an unknown number of elements and is terminated by a line reading\n",
    "\n",
    "`**  [x_coordinate]  [y_coordinate]  [z_coordinate]`\n",
    "\n",
    "The coordinates are optional and not required.  The end of the set of structures is signified by the line:\n",
    "\n",
    "`##  [x_coordinate]  [y_coordinate]  [z_coordinate]`\n",
    "\n",
    "again the coordinates are optional.  While it may seem unecessary this line is important since it signifies that the previous step in our analysis completed successfully, i.e. the previous program didn't just stop midway through calculating the next structure.\n",
    "\n",
    "You will modify the code `ts_parser.py` so that it reads in the structures, according to the above syntax, and processes the resulting data into lists of lists:\n",
    "\n",
    "1. The element labels should be read into `<elements>`, raising an `Exception('Empty line in file')` if the line is empty\n",
    "2. The coordinates should be read into `x`, `y` and `z` and converted to floats, or `float('nan')` if not possible or not present\n",
    "3. Once read in you should then check that the file terminated correctly, raising an `Exception('File termination Error')` if it didn't\n",
    "4. Otherwise return your data in the form of a list:\n",
    "\n",
    "```python\n",
    "return [ [[ elements ]],\n",
    "         [[ x ]], \n",
    "         [[ y ]],\n",
    "         [[ z ]] ]\n",
    "```\n",
    "\n",
    "You will then write a second function that processes the data to:\n",
    "\n",
    "1. Count how many Structures are in the data set\n",
    "2. Count the number of elements per structure\n",
    "3. Record the number of invalid structures and the indices of them.\n",
    "4. Return the result as a list with the format:\n",
    "   ```python\n",
    "   return [ num_structs,\n",
    "            [ elements_per_struct ], \n",
    "            [ invalid_structs, [ list_of_invalid_structs ]] ]\n",
    "    ```\n",
    "\n",
    "A series of tests will help you to identify when your functions are performing correctly."
   ]
  },
  {
   "cell_type": "markdown",
   "metadata": {
    "slideshow": {
     "slide_type": "slide"
    }
   },
   "source": [
    "## Pen: 1: Read in data, convert type and return as lists (of lists)\n",
    "\n",
    "The first challenge is to read the data from files.  A prototype function for reading in the structure file is given in `ts_parser.py` and a series of tests in `test_ts_parser.py`.  These will check different components of you function and can help you if required to correct your code.  As suggested in the introduction the use of pseduocode or a flowchart will help to ensure the appropriate flow of your function.\n",
    "\n",
    "Once you are reading in the file correctly, recall how we considered processing each line of a file in turn using:\n",
    "```python\n",
    "with open(filename) as file:\n",
    "    ...\n",
    "```\n",
    "\n",
    "you may find the following function useful:\n",
    "\n",
    "```python\n",
    "words_in_line = line.split()\n",
    "```\n",
    "which splits the string `line`, with spaces by default, and returns a list of the 'words' in the string.\n",
    "\n",
    "The tests can be run with the command:\n",
    "```python\n",
    "% pytest --tb=short test_ts_parser.py\n",
    "```\n",
    "\n",
    "Once you are correctly reading in the expected structure your function should pass the first 5 tests."
   ]
  },
  {
   "cell_type": "markdown",
   "metadata": {
    "slideshow": {
     "slide_type": "slide"
    }
   },
   "source": [
    "## Pen: 2: Introduce exceptions and handle missing data\n",
    "\n",
    "You now need to put checks into your function to address the following possible issues:\n",
    "\n",
    "1. The element labels should be read into `<elements>`, raising an `Exception('Empty line in file')` if the line is empty.\n",
    "2. The coordinates should be read into `x`, `y` and `z` and converted to floats, or `float('nan')` if not present.\n",
    "3. Once read in you should then check that the file terminated correctly, raising an `Exception('File termination Error')` if it didn't.\n",
    "\n",
    "You may find the following construct useful for one of the tasks:\n",
    "\n",
    "```python\n",
    "while condition:\n",
    "    body\n",
    "```\n",
    "\n",
    "The `while` construct combine the `loop` and `conditional`, with the `body` being executed `while` the condition remains `True`.\n",
    "\n",
    "The remaining 4 test in `test_ts_parser.py` should pass once you are handling exceptions and missing data as required."
   ]
  },
  {
   "cell_type": "markdown",
   "metadata": {
    "slideshow": {
     "slide_type": "slide"
    }
   },
   "source": [
    "## Pen: What else could break the function\n",
    "\n",
    "What other conditions could break the function.  Think how you could test for these and correct them."
   ]
  },
  {
   "cell_type": "markdown",
   "metadata": {
    "slideshow": {
     "slide_type": "slide"
    }
   },
   "source": [
    "## Pen: 3: Process data to count stuctures and number of elements\n",
    "\n",
    "You will then write a second function `proc_structs(struct)` which will be passed the list you returned from your parsing function, to processes the data to:\n",
    "\n",
    "1. Count how many Structures are in the data set\n",
    "2. Check that all elements contained the correct number of coordinates\n",
    "3. Return the result as a list with the format:\n",
    "   ```python\n",
    "   return [ num_structs,\n",
    "            [ elements_per_struct ],\n",
    "            [ invalid_structs, [ list_of_invalid_structs ] ] ]\n",
    "    ```\n",
    "    \n",
    "In this exercise you do not need to populate the lists related to invalid_structs.\n",
    "\n",
    "The tests can be run with the command:\n",
    "```python\n",
    "% pytest --tb=short test_ts_proc.py\n",
    "```\n",
    "\n",
    "Your processing should pass the first 6 tests once it is working correctly, but may pass more depending on your implementation."
   ]
  },
  {
   "cell_type": "markdown",
   "metadata": {
    "slideshow": {
     "slide_type": "slide"
    }
   },
   "source": [
    "## Pen: 4: Identify erroneous structures\n",
    "\n",
    "Finally modify your processing function so that is checks whether each structure is valid or not, i.e. contains valid atom positions, and includes the number of invalid structures and their indices as a list in the return statement.\n",
    "\n",
    "N.B. It will possibly surprise you to find out the result of\n",
    "```python\n",
    "assert float('nan') == float('nan')\n",
    "```\n",
    "copy this into an `ipython` session and try to work out why it gives the result it does.\n",
    "\n",
    "Fortunately `numpy` provides a function `numpy.isnan(value)` or `np.isnan(value)`, depending on how you `import`, which can explicitly check if a value/variable is not a number."
   ]
  },
  {
   "cell_type": "markdown",
   "metadata": {
    "slideshow": {
     "slide_type": "slide"
    }
   },
   "source": [
    "## Pen: How could the functions (and tests!) be improved\n",
    "\n",
    "Thinking about what we have previously said about functions and unit tests what problems are there with the code we have created.  How, if at all could these be improved?"
   ]
  },
  {
   "cell_type": "markdown",
   "metadata": {
    "slideshow": {
     "slide_type": "slide"
    }
   },
   "source": [
    "## Key Points\n",
    "- Parsing and processing files to check that they are consistent with expected format is a common task.\n",
    "- You can mitigate by using standard formats but it is a useful task combining conditional processing and treating errors.\n",
    "- You will see that even with a relatively simple file format we are passing a lot of data around.\n",
    "- Appropriate use of modules, libraries and classes can help you structure you code to reduce the need for this and improve the clarity of your programs.\n",
    "- In many programming languages `nan!=nan`"
   ]
  }
 ],
 "metadata": {
  "celltoolbar": "Slideshow",
  "kernelspec": {
   "display_name": "Python 3",
   "language": "python",
   "name": "python3"
  },
  "language_info": {
   "codemirror_mode": {
    "name": "ipython",
    "version": 3
   },
   "file_extension": ".py",
   "mimetype": "text/x-python",
   "name": "python",
   "nbconvert_exporter": "python",
   "pygments_lexer": "ipython3",
   "version": "3.6.6"
  }
 },
 "nbformat": 4,
 "nbformat_minor": 2
}
